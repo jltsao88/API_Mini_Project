{
 "cells": [
  {
   "cell_type": "markdown",
   "metadata": {},
   "source": [
    "This exercise will require you to pull some data from the Qunadl API. Qaundl is currently the most widely used aggregator of financial market data."
   ]
  },
  {
   "cell_type": "markdown",
   "metadata": {},
   "source": [
    "As a first step, you will need to register a free account on the http://www.quandl.com website."
   ]
  },
  {
   "cell_type": "markdown",
   "metadata": {},
   "source": [
    "After you register, you will be provided with a unique API key, that you should store:"
   ]
  },
  {
   "cell_type": "code",
   "execution_count": 1,
   "metadata": {
    "collapsed": true
   },
   "outputs": [],
   "source": [
    "# Store the API key as a string - according to PEP8, constants are always named in all upper case\n",
    "API_KEY = 'UKQAVipGFcy3aw1x47dd'"
   ]
  },
  {
   "cell_type": "markdown",
   "metadata": {},
   "source": [
    "Qaundl has a large number of data sources, but, unfortunately, most of them require a Premium subscription. Still, there are also a good number of free datasets."
   ]
  },
  {
   "cell_type": "markdown",
   "metadata": {},
   "source": [
    "For this mini project, we will focus on equities data from the Frankfurt Stock Exhange (FSE), which is available for free. We'll try and analyze the stock prices of a company called Carl Zeiss Meditec, which manufactures tools for eye examinations, as well as medical lasers for laser eye surgery: https://www.zeiss.com/meditec/int/home.html. The company is listed under the stock ticker AFX_X."
   ]
  },
  {
   "cell_type": "markdown",
   "metadata": {},
   "source": [
    "You can find the detailed Quandl API instructions here: https://docs.quandl.com/docs/time-series"
   ]
  },
  {
   "cell_type": "markdown",
   "metadata": {},
   "source": [
    "While there is a dedicated Python package for connecting to the Quandl API, we would prefer that you use the *requests* package, which can be easily downloaded using *pip* or *conda*. You can find the documentation for the package here: http://docs.python-requests.org/en/master/ "
   ]
  },
  {
   "cell_type": "markdown",
   "metadata": {},
   "source": [
    "Finally, apart from the *requests* package, you are encouraged to not use any third party Python packages, such as *pandas*, and instead focus on what's available in the Python Standard Library (the *collections* module might come in handy: https://pymotw.com/3/collections/).\n",
    "Also, since you won't have access to DataFrames, you are encouraged to us Python's native data structures - preferably dictionaries, though some questions can also be answered using lists.\n",
    "You can read more on these data structures here: https://docs.python.org/3/tutorial/datastructures.html"
   ]
  },
  {
   "cell_type": "markdown",
   "metadata": {},
   "source": [
    "Keep in mind that the JSON responses you will be getting from the API map almost one-to-one to Python's dictionaries. Unfortunately, they can be very nested, so make sure you read up on indexing dictionaries in the documentation provided above."
   ]
  },
  {
   "cell_type": "code",
   "execution_count": 126,
   "metadata": {
    "collapsed": true
   },
   "outputs": [],
   "source": [
    "# First, import the relevant modules\n",
    "import requests\n"
   ]
  },
  {
   "cell_type": "code",
   "execution_count": 9,
   "metadata": {
    "collapsed": true
   },
   "outputs": [],
   "source": [
    "# Now, call the Quandl API and pull out a small sample of the data (only one day) to get a glimpse\n",
    "# into the JSON structure that will be returned\n",
    "r = requests.get('https://www.quandl.com/api/v3/datasets/' + 'FSE/AFX_X/' +\\\n",
    "                 '/data.json?&start_date=2018-12-21&end_date=2018-12-21' +\\\n",
    "                 '&api_key=' + API_KEY)"
   ]
  },
  {
   "cell_type": "code",
   "execution_count": 10,
   "metadata": {},
   "outputs": [
    {
     "data": {
      "text/plain": [
       "{'dataset_data': {'collapse': None,\n",
       "  'column_index': None,\n",
       "  'column_names': ['Date',\n",
       "   'Open',\n",
       "   'High',\n",
       "   'Low',\n",
       "   'Close',\n",
       "   'Change',\n",
       "   'Traded Volume',\n",
       "   'Turnover',\n",
       "   'Last Price of the Day',\n",
       "   'Daily Traded Units',\n",
       "   'Daily Turnover'],\n",
       "  'data': [['2018-12-21',\n",
       "    None,\n",
       "    69.3,\n",
       "    67.9,\n",
       "    68.95,\n",
       "    None,\n",
       "    None,\n",
       "    None,\n",
       "    None,\n",
       "    None,\n",
       "    None]],\n",
       "  'end_date': '2018-12-21',\n",
       "  'frequency': 'daily',\n",
       "  'limit': None,\n",
       "  'order': None,\n",
       "  'start_date': '2018-12-21',\n",
       "  'transform': None}}"
      ]
     },
     "execution_count": 10,
     "metadata": {},
     "output_type": "execute_result"
    }
   ],
   "source": [
    "# Inspect the JSON structure of the object you created, and take note of how nested it is,\n",
    "# as well as the overall structure\n",
    "r.json()"
   ]
  },
  {
   "cell_type": "markdown",
   "metadata": {},
   "source": [
    "These are your tasks for this mini project:\n",
    "\n",
    "1. Collect data from the Franfurt Stock Exchange, for the ticker AFX_X, for the whole year 2017 (keep in mind that the date format is YYYY-MM-DD).\n",
    "2. Convert the returned JSON object into a Python dictionary.\n",
    "3. Calculate what the highest and lowest opening prices were for the stock in this period.\n",
    "4. What was the largest change in any one day (based on High and Low price)?\n",
    "5. What was the largest change between any two days (based on Closing Price)?\n",
    "6. What was the average daily trading volume during this year?\n",
    "7. (Optional) What was the median trading volume during this year. (Note: you may need to implement your own function for calculating the median.)"
   ]
  },
  {
   "cell_type": "code",
   "execution_count": 206,
   "metadata": {},
   "outputs": [],
   "source": [
    "# 1. \n",
    "# Make API request return json data\n",
    "r = requests.get('https://www.quandl.com/api/v3/datasets/' + 'FSE/AFX_X/' +\\\n",
    "                 '/data.json?&start_date=2017-01-01&end_date=2017-12-31' +\\\n",
    "                 '&api_key=' + API_KEY)\n",
    "\n",
    "json_data = r.json()"
   ]
  },
  {
   "cell_type": "code",
   "execution_count": 207,
   "metadata": {},
   "outputs": [],
   "source": [
    "# 2.\n",
    "#cast json_data as a dictionary\n",
    "dict_data = dict(json_data['dataset_data'])"
   ]
  },
  {
   "cell_type": "code",
   "execution_count": 208,
   "metadata": {
    "collapsed": true
   },
   "outputs": [],
   "source": [
    "#create function that creates a list of a certain column from the json data\n",
    "def column_list(column_index):\n",
    "    '''\n",
    "    Use column index below to create a list of that attribute for \n",
    "    Date:0,Open:1,High:2,Low:3,Close:4,Traded Volume:6,Turnover:7\n",
    "    \n",
    "    dict_data['data'][index_of_certain_day][attribute_index]\n",
    "    \n",
    "    column_index: int\n",
    "    returns: list\n",
    "    '''\n",
    "    return [dict_data['data'][x][column_index] for x in range(len(dict_data['data']))]"
   ]
  },
  {
   "cell_type": "code",
   "execution_count": 210,
   "metadata": {},
   "outputs": [
    {
     "name": "stdout",
     "output_type": "stream",
     "text": [
      "The highest open price for AFX_X in 2017 was 53.11\n",
      "The lowest open price for AFX_X in 2017 was 34.0\n"
     ]
    }
   ],
   "source": [
    "# 3.\n",
    "#Print the highest and lowest open price foro AFX_X in 2017\n",
    "#Data for Open contains None values, filter out None values to be able to call min() and max()\n",
    "\n",
    "highest_open_price = max(x for x in column_list(1) if x is not None)\n",
    "lowest_open_price = min(x for x in column_list(1) if x is not None)\n",
    "\n",
    "print('The highest open price for AFX_X in 2017 was ' + str(highest_open_price))\n",
    "print('The lowest open price for AFX_X in 2017 was ' + str(lowest_open_price))"
   ]
  },
  {
   "cell_type": "code",
   "execution_count": 211,
   "metadata": {},
   "outputs": [
    {
     "name": "stdout",
     "output_type": "stream",
     "text": [
      "The largest price fluctuation in any one day in 2017 was 2.8100000000000023\n"
     ]
    }
   ],
   "source": [
    "# 4.\n",
    "#Using list comprehension to make a new list of (highs - lows) for each day\n",
    "change = [column_list(2)[x] - column_list(3)[x] for x in range(len(dict_data['data']))]\n",
    "\n",
    "print('The largest price fluctuation in any one day in 2017 was '+ str(max(change)))"
   ]
  },
  {
   "cell_type": "code",
   "execution_count": 212,
   "metadata": {},
   "outputs": [
    {
     "name": "stdout",
     "output_type": "stream",
     "text": [
      "The largest change based on close price between any two days in 2017 was 19.03\n"
     ]
    }
   ],
   "source": [
    "# 5.\n",
    "#To find the max and min closing prices in 2017 and take the difference to find largest change\n",
    "closing_prices = column_list(4)\n",
    "max_close = max(closing_prices)\n",
    "min_close = min(closing_prices)\n",
    "largest_change_2days = max_close - min_close\n",
    "\n",
    "print('The largest change based on close price between any two days in 2017 was ' + str(largest_change_2days))"
   ]
  },
  {
   "cell_type": "code",
   "execution_count": 213,
   "metadata": {},
   "outputs": [
    {
     "name": "stdout",
     "output_type": "stream",
     "text": [
      "The average trade volume for 2017 was 89124.33725490196\n"
     ]
    }
   ],
   "source": [
    "# 6.\n",
    "#Find average trade volume by calculting sum of total trade volume divided by the \n",
    "trade_volumes_per_day = column_list(6)\n",
    "average_trade_vol = sum(trade_volumes_per_day) / len(trade_volumes_per_day)\n",
    "print('The average trade volume for 2017 was ' + str(average_trade_vol))\n",
    "\n"
   ]
  },
  {
   "cell_type": "code",
   "execution_count": 214,
   "metadata": {},
   "outputs": [],
   "source": [
    "# Define function to calculate the median\n",
    "\n",
    "def median(col_list):\n",
    "    '''\n",
    "    Returns the median from a list of numerical values\n",
    "    '''\n",
    "    #sort the list without modifying the orginal list\n",
    "    sorted_list = sorted(col_list)\n",
    "    if len(sorted_list) % 2 == 0:\n",
    "        return (sorted_list[int(len(sorted_list)/2)] +\\\n",
    "                sorted_list[int(len(sorted_list)/2 - 1)]) / 2\n",
    "    else:\n",
    "        return sorted_list[len(sorted_list)//2]"
   ]
  },
  {
   "cell_type": "code",
   "execution_count": 215,
   "metadata": {},
   "outputs": [
    {
     "name": "stdout",
     "output_type": "stream",
     "text": [
      "The median trade volume for 2017 was 76286.0\n"
     ]
    }
   ],
   "source": [
    "# 7.\n",
    "\n",
    "#sort the list of daily trade volumes without modifying the original list, then \n",
    "median_trade_vol = median(sorted_avg_trade_vol)\n",
    "print('The median trade volume for 2017 was ' + str(median_trade_vol))"
   ]
  },
  {
   "cell_type": "code",
   "execution_count": null,
   "metadata": {},
   "outputs": [],
   "source": []
  },
  {
   "cell_type": "code",
   "execution_count": null,
   "metadata": {},
   "outputs": [],
   "source": []
  },
  {
   "cell_type": "code",
   "execution_count": null,
   "metadata": {},
   "outputs": [],
   "source": []
  },
  {
   "cell_type": "code",
   "execution_count": null,
   "metadata": {
    "collapsed": true
   },
   "outputs": [],
   "source": []
  }
 ],
 "metadata": {
  "kernelspec": {
   "display_name": "Python 3",
   "language": "python",
   "name": "python3"
  },
  "language_info": {
   "codemirror_mode": {
    "name": "ipython",
    "version": 3
   },
   "file_extension": ".py",
   "mimetype": "text/x-python",
   "name": "python",
   "nbconvert_exporter": "python",
   "pygments_lexer": "ipython3",
   "version": "3.6.3"
  }
 },
 "nbformat": 4,
 "nbformat_minor": 2
}
